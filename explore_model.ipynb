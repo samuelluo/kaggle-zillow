{
 "cells": [
  {
   "cell_type": "code",
   "execution_count": 1,
   "metadata": {},
   "outputs": [],
   "source": [
    "import datetime\n",
    "import pandas\n",
    "import xgboost"
   ]
  },
  {
   "cell_type": "code",
   "execution_count": 2,
   "metadata": {},
   "outputs": [],
   "source": [
    "# Read in data\n",
    "train = pandas.read_csv('raw_data/train_2016_v2.csv')\n",
    "train['transactiondate'] = pandas.to_datetime(train['transactiondate'])\n",
    "train = train.rename(columns={'transactiondate' : 'transaction_date',\n",
    "                              'parcelid'        : 'parcel_id'})"
   ]
  },
  {
   "cell_type": "code",
   "execution_count": 3,
   "metadata": {},
   "outputs": [],
   "source": [
    "train['dayofweek'] = train['transaction_date'].dt.dayofweek\n",
    "train['weekday_name'] = train['transaction_date'].apply(lambda x: datetime.datetime.strftime(x, '%A'))\n",
    "train['month'] = train['transaction_date'].dt.month\n",
    "train['year'] = train['transaction_date'].dt.year\n",
    "train['abs_logerror'] = train['logerror'].abs()\n",
    "train = train[['transaction_date', 'parcel_id', 'logerror', 'abs_logerror',\n",
    "               'dayofweek', 'weekday_name', 'month', 'year']]"
   ]
  },
  {
   "cell_type": "code",
   "execution_count": 4,
   "metadata": {},
   "outputs": [],
   "source": [
    "properties = pandas.read_csv('data/properties_2016_cleaned.csv')"
   ]
  },
  {
   "cell_type": "code",
   "execution_count": 5,
   "metadata": {},
   "outputs": [],
   "source": [
    "train_data = train.merge(properties, on='parcel_id')"
   ]
  },
  {
   "cell_type": "markdown",
   "metadata": {},
   "source": [
    "### Model"
   ]
  },
  {
   "cell_type": "code",
   "execution_count": 6,
   "metadata": {},
   "outputs": [],
   "source": [
    "model = xgboost.XGBRegressor()\n",
    "X_train = train_data.iloc[:, 5:].drop(['weekday_name'], axis=1)\n",
    "Y_train = train_data['logerror']\n",
    "model = model.fit(X_train, Y_train)"
   ]
  },
  {
   "cell_type": "code",
   "execution_count": 7,
   "metadata": {},
   "outputs": [],
   "source": [
    "predictions = train_data[['logerror']].copy()\n",
    "predictions['Y_pred'] = model.predict(X_train)"
   ]
  },
  {
   "cell_type": "code",
   "execution_count": 8,
   "metadata": {},
   "outputs": [
    {
     "data": {
      "text/plain": [
       "0.06750932214092656"
      ]
     },
     "execution_count": 8,
     "metadata": {},
     "output_type": "execute_result"
    }
   ],
   "source": [
    "predictions['abs_err'] = predictions['logerror'] - predictions['Y_pred']\n",
    "predictions['abs_err'] = predictions['abs_err'].abs()\n",
    "predictions['abs_err'].mean()"
   ]
  },
  {
   "cell_type": "code",
   "execution_count": 9,
   "metadata": {},
   "outputs": [
    {
     "data": {
      "text/plain": [
       "0.8437995015231238"
      ]
     },
     "execution_count": 9,
     "metadata": {},
     "output_type": "execute_result"
    }
   ],
   "source": [
    "def direction(x):\n",
    "    if x > 0: return 1\n",
    "    if x < 0: return -1\n",
    "predictions['true_direction'] = predictions['logerror'].apply(direction)\n",
    "predictions['pred_direction'] = predictions['Y_pred'].apply(direction)\n",
    "\n",
    "def hit(x):\n",
    "    if x['true_direction'] == x['pred_direction']:\n",
    "        return x['Y_pred'] < x['logerror']\n",
    "    else:\n",
    "        return True\n",
    "predictions['hit'] = predictions.apply(hit, axis=1)\n",
    "predictions['hit'].mean()"
   ]
  },
  {
   "cell_type": "code",
   "execution_count": null,
   "metadata": {},
   "outputs": [],
   "source": []
  }
 ],
 "metadata": {
  "kernelspec": {
   "display_name": "Python 3",
   "language": "python",
   "name": "python3"
  },
  "language_info": {
   "codemirror_mode": {
    "name": "ipython",
    "version": 3
   },
   "file_extension": ".py",
   "mimetype": "text/x-python",
   "name": "python",
   "nbconvert_exporter": "python",
   "pygments_lexer": "ipython3",
   "version": "3.6.5"
  },
  "toc": {
   "nav_menu": {},
   "number_sections": false,
   "sideBar": true,
   "skip_h1_title": false,
   "title_cell": "Table of Contents",
   "title_sidebar": "Contents",
   "toc_cell": false,
   "toc_position": {},
   "toc_section_display": true,
   "toc_window_display": false
  }
 },
 "nbformat": 4,
 "nbformat_minor": 2
}
